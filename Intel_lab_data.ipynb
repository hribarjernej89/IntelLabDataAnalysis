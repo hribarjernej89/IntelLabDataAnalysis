{
 "cells": [
  {
   "cell_type": "markdown",
   "metadata": {},
   "source": [
    "# Extracting covariance model parameters from Intel lab data\n",
    "\n",
    "In this Notebook, we analyse data provided by the [Intel Berkeley Research laboratory](http://db.csail.mit.edu/labdata/labdata.html) to extract scaling parameters for the covariance models for our paper entitled \"Using Correlated Information to Extend Device Lifetime in the Internet of Things\" . To extract the covariance models paramaters we follow Tilmanm  Gneiting instructions as presented in his paper: [Nonseparable, stationary Covariance Functions for Space-Time Data](http://www.jstor.org/stable/3085674). [Our code](https://github.com/hribarjernej89/Nonseparable_Stationary_Covariance_Functions_for_Space-Time_Data) replicating his experiment.\n",
    "\n",
    "We use temperature and humidity measurements from nine sensors to extract covariance models scaling parameters. We focus only on a subset of available sensors residing in one single room because only sensors deployed in the same room are subject to the same environmental factors, e.g. air circulation. We average multiple updates over an hour to provide time domain consistency necessary to calculate temporal correlation. We start by calculating space-time correlation for time lag zero. At time lag zero we compare measurements acquired at the same hour To obtain empirical temporal correlation, we calculate the average of empirical space-time correlation for a specific time-lag. It is noticeable that humidity has a better temporal correlation in comparison to temperature. In a case for humidity data is correlated even when time lag is nine hours, in contrast to temperature empirical correlation that is negligible after six hours. In the next step, we fitted the models to data points. All three covariance models provide a reasonable fit, indicating that all three models are applicable in these two particular scenarios. \n",
    "\n",
    "## Temperature: \n",
    "\n",
    "\n",
    "\\begin{equation}\n",
    "\\rho_i^{_{I}}(r_i,t_i) = exp(-0.012 r_i - 0.272 \\Delta_i(t)),\n",
    "\\end{equation}\n",
    "\n",
    "\\begin{equation}\n",
    "\\rho_i^{_{II}}(r_i,t_i) =   \\frac{0.103\\Delta_i(t)+1}{\\bigg( (0.103\\Delta_i(t)+1)^2 + 0.017^2 r_i^2\\bigg)^{2}},\n",
    "\\end{equation}\n",
    "\n",
    "\\begin{equation}\n",
    "\\rho_i^{_{III}}(r_i,t_i) = \\exp (- 0.022^2 r_i^2 - 0.039\\Delta_i(t)- 0.003 \\Delta_i(t) r_i^2).\n",
    "\\end{equation}\n",
    "\n",
    "\n",
    "The best fit to empirical points is separable model $\\rho_i^{_{I}}$.\n",
    "\n",
    "## Humidity:\n",
    "\n",
    "\\begin{equation}\n",
    "\\rho_i^{_{I}}(r_i,t_i) = exp(-0.166 r_i - 0.009 \\Delta_i(t)),\n",
    "\\end{equation}\n",
    "\n",
    "\\begin{equation}\n",
    "\\rho_i^{_{II}}(r_i,t_i) =   \\frac{0.062\\Delta_i(t)+1}{\\bigg( (0.062\\Delta_i(t)+1)^2 + 0.016^2 r_i^2\\bigg)^{2}},\n",
    "\\end{equation}\n",
    "\n",
    "\\begin{equation}\n",
    "\\rho_i^{_{III}}(r_i,t_i) = \\exp (- 0.021^2 r_i^2 - 0.022\\Delta_i(t)- 0.002\\Delta_i(t) r_i^2).\n",
    "\\end{equation}\n",
    "\n",
    "For humidty the best fit to empirical points is  non-separable $\\rho_i^{_{II}}$.\n",
    "\n",
    "\n",
    "\n",
    "![Results.svg](attachment:Results.svg)"
   ]
  },
  {
   "cell_type": "code",
   "execution_count": 1,
   "metadata": {
    "collapsed": true
   },
   "outputs": [],
   "source": [
    "#Import statements\n",
    "%matplotlib inline \n",
    "import matplotlib.pyplot as plt\n",
    "import pandas as pd\n",
    "import numpy as np\n",
    "import datetime\n",
    "import scipy.integrate as integrate\n",
    "\n",
    "from scipy.optimize import curve_fit\n",
    "\n",
    "pd.options.display.max_rows = 12\n",
    "\n",
    "\n",
    "# Graphing helper function\n",
    "def setup_graph(title='', x_label='', y_label='', fig_size=None):\n",
    "    fig = plt.figure()\n",
    "    if fig_size != None:\n",
    "        fig.set_size_inches(fig_size[0], fig_size[1])\n",
    "    ax = fig.add_subplot(111)\n",
    "    ax.set_title(title)\n",
    "    ax.set_xlabel(x_label)\n",
    "    ax.set_ylabel(y_label)"
   ]
  },
  {
   "cell_type": "code",
   "execution_count": 2,
   "metadata": {
    "collapsed": true
   },
   "outputs": [],
   "source": [
    "df = pd.read_csv('Intel_data.txt', names=[\"Date\" ,\"Time\", \"Epoch\", \"Mote_id\", \"Temperature\",\n",
    "                                          \"Humidity\", \"Light\", \"Voltage\" ], parse_dates=[['Date', 'Time']],sep=\" \",)\n",
    "df.index = pd.to_datetime(df['Date_Time'])"
   ]
  },
  {
   "cell_type": "code",
   "execution_count": 3,
   "metadata": {},
   "outputs": [
    {
     "name": "stdout",
     "output_type": "stream",
     "text": [
      "                                            Node14\n",
      "Date_Time Date_Time Date_Time Date_Time           \n",
      "2004      3         1         0          18.892649\n",
      "                              1          17.828778\n",
      "                              2          17.478076\n",
      "                              3          17.265336\n",
      "                              4          16.976067\n",
      "                              5          16.678958\n",
      "...                                            ...\n",
      "                    21        18         21.580820\n",
      "                              19         21.213658\n",
      "                              20         20.893717\n",
      "                              21         20.408241\n",
      "                              22         20.171971\n",
      "                              23         19.997640\n",
      "\n",
      "[463 rows x 1 columns]\n",
      "                                            Node14     Node25\n",
      "Date_Time Date_Time Date_Time Date_Time                      \n",
      "2004      3         1         0          18.892649  17.859044\n",
      "                              1          17.828778  17.494400\n",
      "                              2          17.478076  17.222923\n",
      "                              3          17.265336  17.011023\n",
      "                              4          16.976067  16.708245\n",
      "                              5          16.678958  16.223800\n",
      "...                                            ...        ...\n",
      "                    21        18         21.580820  21.184272\n",
      "                              19         21.213658  20.598625\n",
      "                              20         20.893717  20.216815\n",
      "                              21         20.408241  19.830846\n",
      "                              22         20.171971  19.390084\n",
      "                              23         19.997640  18.886997\n",
      "\n",
      "[463 rows x 2 columns]\n"
     ]
    }
   ],
   "source": [
    "#We limit our observations only to a handfull of days\n",
    "new = df['2004/3/1':'2004/3/21']\n",
    "\n",
    "df2 = pd.DataFrame()\n",
    "test = pd.DataFrame()\n",
    "\n",
    "test = new.loc[df.Mote_id==14]\n",
    "test = test.groupby([test.index.year,test.index.month,test.index.day, test.index.hour]).mean()\n",
    "df2[['Node14']] = test[['Temperature']]\n",
    "\n",
    "print(df2)\n",
    "\n",
    "test = new.loc[df.Mote_id==25]\n",
    "test = test.groupby([test.index.year,test.index.month,test.index.day, test.index.hour]).mean()\n",
    "df2[['Node25']] = test[['Temperature']]\n",
    "\n",
    "print(df2)\n"
   ]
  },
  {
   "cell_type": "code",
   "execution_count": 4,
   "metadata": {
    "collapsed": true
   },
   "outputs": [],
   "source": [
    "#We limit our observations only to a handfull od days\n",
    "new = df['2004/3/1':'2004/3/21']\n",
    "\n",
    "#We create two datafranes ti hold the data used for covariance calculations\n",
    "Temperature_data = pd.DataFrame()\n",
    "Humidity_data = pd.DataFrame()\n",
    "test = pd.DataFrame()\n",
    "\n",
    "#Write data from Node 14\n",
    "test = new.loc[df.Mote_id==14]\n",
    "test = test.groupby([test.index.year,test.index.month,test.index.day, test.index.hour]).mean()\n",
    "Temperature_data [['Node14']] = test[['Temperature']]\n",
    "Humidity_data[['Node14']] = test[['Humidity']]\n",
    "\n",
    "#Write data from Nodes 22 to 29\n",
    "for i in range(8):\n",
    "    j = i + 22\n",
    "    test = new.loc[df.Mote_id==j]\n",
    "    test = test.groupby([test.index.year,test.index.month,test.index.day, test.index.hour]).mean()\n",
    "    Temperature_data[['Node' + str(j)]] = test[['Temperature']]\n",
    "    Humidity_data[['Node'+ str(j)]] = test[['Humidity']]\n",
    "\n",
    "\n",
    "#print(Temperature_data)\n",
    "#print(Humidity_data)"
   ]
  },
  {
   "cell_type": "code",
   "execution_count": 5,
   "metadata": {
    "collapsed": true
   },
   "outputs": [],
   "source": [
    "nodes_distances = pd.read_csv('intel_nodes_distances.csv')\n",
    "#print(nodes_distances)"
   ]
  },
  {
   "cell_type": "code",
   "execution_count": 6,
   "metadata": {},
   "outputs": [
    {
     "data": {
      "text/plain": [
       "(0, 1)"
      ]
     },
     "execution_count": 6,
     "metadata": {},
     "output_type": "execute_result"
    },
    {
     "data": {
      "image/png": "[encoded data removed]",
      "text/plain": [
       "<Figure size 432x288 with 1 Axes>"
      ]
     },
     "metadata": {},
     "output_type": "display_data"
    }
   ],
   "source": [
    "# calculating the covariance for zero lag for temperature\n",
    "i = 0\n",
    "\n",
    "ty0 = [None] * 81\n",
    "tx0 = [None] * 81\n",
    "k=0\n",
    "for first_column in Temperature_data:\n",
    "    df1 = Temperature_data[first_column]\n",
    "    std_test1=np.std(df1)\n",
    "    j = 0 \n",
    "    for second_column in Temperature_data:\n",
    "        df2 = Temperature_data[second_column]\n",
    "        std_test2=np.std(df2)\n",
    "        ty0[k] = np.corrcoef(df1, df2)[0, 1]\n",
    "        tx0[k] = nodes_distances.iloc[i,j]\n",
    "        j = j + 1\n",
    "        k = k + 1\n",
    "    i = i + 1\n",
    "plt.scatter(tx0, ty0,  color='black')\n",
    "plt.ylim(0, 1)"
   ]
  },
  {
   "cell_type": "code",
   "execution_count": 7,
   "metadata": {},
   "outputs": [
    {
     "data": {
      "text/plain": [
       "(0, 1)"
      ]
     },
     "execution_count": 7,
     "metadata": {},
     "output_type": "execute_result"
    },
    {
     "data": {
      "image/png": "[encoded data removed]",
      "text/plain": [
       "<Figure size 432x288 with 1 Axes>"
      ]
     },
     "metadata": {},
     "output_type": "display_data"
    }
   ],
   "source": [
    "# calculating the covariance for lag 1 hour for temperature\n",
    "i = 0\n",
    "\n",
    "ty1 = [None] * 81\n",
    "tx1 = [None] * 81\n",
    "k=0\n",
    "for first_column in Temperature_data:\n",
    "    df1 = Temperature_data[first_column][:-1]\n",
    "    std_test1=np.std(df1)\n",
    "    j = 0 \n",
    "    for second_column in Temperature_data:\n",
    "        df2 = Temperature_data[second_column][1:]\n",
    "        std_test2=np.std(df2)\n",
    "        ty1[k] = np.corrcoef(df1, df2)[0, 1]\n",
    "        tx1[k] = nodes_distances.iloc[i,j]\n",
    "        j = j + 1\n",
    "        k = k + 1\n",
    "    i = i + 1\n",
    "plt.scatter(tx1, ty1,  color='black')\n",
    "plt.ylim(0, 1)"
   ]
  },
  {
   "cell_type": "code",
   "execution_count": 8,
   "metadata": {},
   "outputs": [
    {
     "data": {
      "text/plain": [
       "(0, 1)"
      ]
     },
     "execution_count": 8,
     "metadata": {},
     "output_type": "execute_result"
    },
    {
     "data": {
      "image/png": "[encoded data removed]",
      "text/plain": [
       "<Figure size 432x288 with 1 Axes>"
      ]
     },
     "metadata": {},
     "output_type": "display_data"
    }
   ],
   "source": [
    "# calculating the covariance for lag 2 hour for temperature\n",
    "i = 0\n",
    "\n",
    "ty2 = [None] * 81\n",
    "tx2 = [None] * 81\n",
    "k=0\n",
    "for first_column in Temperature_data:\n",
    "    df1 = Temperature_data[first_column][:-2]\n",
    "    std_test1=np.std(df1)\n",
    "    j = 0 \n",
    "    for second_column in Temperature_data:\n",
    "        df2 = Temperature_data[second_column][2:]\n",
    "        std_test2=np.std(df2)\n",
    "        ty2[k] = np.corrcoef(df1, df2)[0, 1]\n",
    "        tx2[k] = nodes_distances.iloc[i,j]\n",
    "        j = j + 1\n",
    "        k = k + 1\n",
    "    i = i + 1\n",
    "plt.scatter(tx2, ty2,  color='black')\n",
    "plt.ylim(0, 1)"
   ]
  },
  {
   "cell_type": "code",
   "execution_count": 9,
   "metadata": {},
   "outputs": [
    {
     "data": {
      "text/plain": [
       "(0, 1)"
      ]
     },
     "execution_count": 9,
     "metadata": {},
     "output_type": "execute_result"
    },
    {
     "data": {
      "image/png": "[encoded data removed]",
      "text/plain": [
       "<Figure size 432x288 with 1 Axes>"
      ]
     },
     "metadata": {},
     "output_type": "display_data"
    }
   ],
   "source": [
    "# calculating the covariance for lag 3 hour for temperature\n",
    "i = 0\n",
    "\n",
    "ty3 = [None] * 81\n",
    "tx3 = [None] * 81\n",
    "k=0\n",
    "for first_column in Temperature_data:\n",
    "    df1 = Temperature_data[first_column][:-3]\n",
    "    std_test1=np.std(df1)\n",
    "    j = 0 \n",
    "    for second_column in Temperature_data:\n",
    "        df2 = Temperature_data[second_column][3:]\n",
    "        std_test2=np.std(df2)\n",
    "        ty3[k] = np.corrcoef(df1, df2)[0, 1]\n",
    "        tx3[k] = nodes_distances.iloc[i,j]\n",
    "        j = j + 1\n",
    "        k = k + 1\n",
    "    i = i + 1\n",
    "plt.scatter(tx3, ty3,  color='black')\n",
    "plt.ylim(0, 1)"
   ]
  },
  {
   "cell_type": "code",
   "execution_count": 10,
   "metadata": {},
   "outputs": [
    {
     "data": {
      "text/plain": [
       "(0, 1)"
      ]
     },
     "execution_count": 10,
     "metadata": {},
     "output_type": "execute_result"
    },
    {
     "data": {
      "image/png": "[encoded data removed]",
      "text/plain": [
       "<Figure size 432x288 with 1 Axes>"
      ]
     },
     "metadata": {},
     "output_type": "display_data"
    }
   ],
   "source": [
    "# calculating the covariance for lag 4 hour for temperature\n",
    "i = 0\n",
    "\n",
    "ty4 = [None] * 81\n",
    "tx4 = [None] * 81\n",
    "k=0\n",
    "for first_column in Temperature_data:\n",
    "    df1 = Temperature_data[first_column][:-4]\n",
    "    std_test1=np.std(df1)\n",
    "    j = 0 \n",
    "    for second_column in Temperature_data:\n",
    "        df2 = Temperature_data[second_column][4:]\n",
    "        std_test2=np.std(df2)\n",
    "        ty4[k] = (np.cov(df1,df2)/(std_test1*std_test2)).item((0, 1))\n",
    "        tx4[k] = nodes_distances.iloc[i,j]\n",
    "        j = j + 1\n",
    "        k = k + 1\n",
    "    i = i + 1\n",
    "plt.scatter(tx4, ty4,  color='black')\n",
    "plt.ylim(0, 1)"
   ]
  },
  {
   "cell_type": "code",
   "execution_count": 11,
   "metadata": {},
   "outputs": [
    {
     "data": {
      "text/plain": [
       "(0, 1)"
      ]
     },
     "execution_count": 11,
     "metadata": {},
     "output_type": "execute_result"
    },
    {
     "data": {
      "image/png": "[encoded data removed]",
      "text/plain": [
       "<Figure size 432x288 with 1 Axes>"
      ]
     },
     "metadata": {},
     "output_type": "display_data"
    }
   ],
   "source": [
    "# calculating the covariance for lag 5 hour for temperature\n",
    "i = 0\n",
    "\n",
    "ty5 = [None] * 81\n",
    "tx5 = [None] * 81\n",
    "k=0\n",
    "for first_column in Temperature_data:\n",
    "    df1 = Temperature_data[first_column][:-5]\n",
    "    std_test1=np.std(df1)\n",
    "    j = 0 \n",
    "    for second_column in Temperature_data:\n",
    "        df2 = Temperature_data[second_column][5:]\n",
    "        std_test2=np.std(df2)\n",
    "        ty5[k] = np.corrcoef(df1, df2)[0, 1]\n",
    "        tx5[k] = nodes_distances.iloc[i,j]\n",
    "        j = j + 1\n",
    "        k = k + 1\n",
    "    i = i + 1\n",
    "plt.scatter(tx5, ty5,  color='black')\n",
    "plt.ylim(0, 1)"
   ]
  },
  {
   "cell_type": "code",
   "execution_count": 12,
   "metadata": {
    "collapsed": true
   },
   "outputs": [],
   "source": [
    "#Temperature time lags from 6 to 9\n",
    "\n",
    "lists_hy = []\n",
    "lists_hx = []\n",
    "    \n",
    "for z in range(4):\n",
    "    humy = [None] * 81\n",
    "    humx = [None] * 81\n",
    "    k=0\n",
    "    i=0\n",
    "    for first_column in Temperature_data:\n",
    "        df1 = Temperature_data[first_column][:-(6+z)]\n",
    "        std_test1=np.std(df1)\n",
    "        j = 0 \n",
    "        for second_column in Temperature_data:\n",
    "            df2 = Temperature_data[second_column][(6+z):]\n",
    "            std_test2=np.std(df2)\n",
    "            humy[k] = np.corrcoef(df1, df2)[0, 1]\n",
    "            humx[k] = nodes_distances.iloc[i,j]\n",
    "            j = j + 1\n",
    "            k = k + 1\n",
    "        i = i + 1\n",
    "    lists_hy.append(humy)\n",
    "    lists_hx.append(humx)\n",
    "\n",
    "ty6 = lists_hy[0]\n",
    "tx6 = lists_hx[0]\n",
    "ty7 = lists_hy[1]\n",
    "tx7 = lists_hx[1]\n",
    "ty8 = lists_hy[2]\n",
    "tx8 = lists_hx[2]\n",
    "ty9 = lists_hy[3]\n",
    "tx9 = lists_hx[3]"
   ]
  },
  {
   "cell_type": "code",
   "execution_count": 13,
   "metadata": {},
   "outputs": [
    {
     "name": "stdout",
     "output_type": "stream",
     "text": [
      "9.318518518518522\n"
     ]
    }
   ],
   "source": [
    "#Calculating average distance\n",
    "average_distance = sum(tx1)/len(tx1)\n",
    "\n",
    "print(average_distance)\n",
    "#print(temperature_timey)\n"
   ]
  },
  {
   "cell_type": "code",
   "execution_count": 14,
   "metadata": {},
   "outputs": [
    {
     "data": {
      "text/plain": [
       "<matplotlib.collections.PathCollection at 0x7fe5e36f6320>"
      ]
     },
     "execution_count": 14,
     "metadata": {},
     "output_type": "execute_result"
    },
    {
     "data": {
      "image/png": "[encoded data removed]",
      "text/plain": [
       "<Figure size 432x288 with 1 Axes>"
      ]
     },
     "metadata": {},
     "output_type": "display_data"
    }
   ],
   "source": [
    "#Calculating averages for time component:\n",
    "temperature_timey = [sum(ty0)/len(ty0),sum(ty1)/len(ty1), sum(ty2)/len(ty2),sum(ty3)/len(ty3),sum(ty4)/len(ty4),sum(ty5)/len(ty5),\n",
    "                 sum(ty6)/len(ty6)]#,sum(ty7)/len(ty7),sum(ty8)/len(ty8),sum(ty9)/len(ty9)]\n",
    "\n",
    "#print(humidity_timey)\n",
    "\n",
    "temperature_timex = [0,1,2,3,4,5,6]#,7,8,9]\n",
    "\n",
    "plt.scatter(temperature_timex, temperature_timey,  color='black')"
   ]
  },
  {
   "cell_type": "code",
   "execution_count": 15,
   "metadata": {},
   "outputs": [
    {
     "name": "stdout",
     "output_type": "stream",
     "text": [
      "[0.01194054]\n",
      "[0.27722835]\n"
     ]
    }
   ],
   "source": [
    "#Fitting the curve for seperable covariance function\n",
    "\n",
    "def covariance_func_space(x, b):\n",
    "    return np.exp(-b * x)\n",
    "\n",
    "def covariance_func_time(x, a):\n",
    "    return np.exp(-a * x)\n",
    "\n",
    "#Fit for the parameters a, b of the function func:\n",
    "\n",
    "popt, pcov = curve_fit(covariance_func_space, tx0, ty0, bounds=(0, 1))\n",
    "print(popt)\n",
    "\n",
    "popt, pcov = curve_fit(covariance_func_time, temperature_timex, temperature_timey, bounds=(0, 1))\n",
    "print(popt)"
   ]
  },
  {
   "cell_type": "code",
   "execution_count": 16,
   "metadata": {},
   "outputs": [
    {
     "name": "stdout",
     "output_type": "stream",
     "text": [
      "[0.02235344]\n"
     ]
    }
   ],
   "source": [
    "#Fitting the curve for non-seperable covariance function I \n",
    "\n",
    "#The first step is determine spatial parameter b\n",
    "def covariance_func_space(x, b):\n",
    "    return np.exp(-b**2 * x**2)\n",
    "\n",
    "#Fit for the parameters b:\n",
    "\n",
    "popt, pcov = curve_fit(covariance_func_space, tx0, ty0, bounds=(0, 1))\n",
    "print(popt)"
   ]
  },
  {
   "cell_type": "code",
   "execution_count": 17,
   "metadata": {},
   "outputs": [
    {
     "name": "stdout",
     "output_type": "stream",
     "text": [
      "[0.03974359 0.00323057]\n"
     ]
    }
   ],
   "source": [
    "#Fitting the curve for non-seperable covariance function I \n",
    "\n",
    "#The second step is determine time parameter a and parameter c\n",
    "\n",
    "def covariance_func_time(x, a, c):\n",
    "    return np.exp(-a * x - 0.02219538**2 * 8.38666666667**2-c*x*8.38666666667**2)\n",
    "\n",
    "#Fit for the parameters a, c of the function func:\n",
    "\n",
    "popt, pcov = curve_fit(covariance_func_time, temperature_timex, temperature_timey, bounds=(0, [0.5, 0.5]))\n",
    "print(popt)"
   ]
  },
  {
   "cell_type": "code",
   "execution_count": 18,
   "metadata": {},
   "outputs": [
    {
     "name": "stdout",
     "output_type": "stream",
     "text": [
      "[0.01664659]\n"
     ]
    }
   ],
   "source": [
    "#Fitting the curve for non-seperable covariance function II \n",
    "\n",
    "#The first step is determine spatial parameter b\n",
    "def covariance_func_space(x, b):\n",
    "    return 1/(1+b**2 * x**2)**2\n",
    "\n",
    "popt, pcov = curve_fit(covariance_func_space, tx0, ty0, bounds=(0, 0.75))\n",
    "print(popt)"
   ]
  },
  {
   "cell_type": "code",
   "execution_count": 19,
   "metadata": {},
   "outputs": [
    {
     "name": "stdout",
     "output_type": "stream",
     "text": [
      "[0.10521548]\n"
     ]
    }
   ],
   "source": [
    "#The second step is determine time parameter a\n",
    "def covariance_func_time(x, a):\n",
    "    return (a*x+1)/((1+a * x)**2 + (8.38666666667**2 * 0.0165161**2))**2\n",
    "\n",
    "#Fit for the parameters a, b of the function func:\n",
    "\n",
    "popt, pcov = curve_fit(covariance_func_time, temperature_timex, temperature_timey, bounds=(0, 0.75))\n",
    "print(popt)"
   ]
  },
  {
   "cell_type": "code",
   "execution_count": 20,
   "metadata": {},
   "outputs": [
    {
     "data": {
      "text/plain": [
       "(0, 1)"
      ]
     },
     "execution_count": 20,
     "metadata": {},
     "output_type": "execute_result"
    },
    {
     "data": {
      "image/png": "[encoded data removed]",
      "text/plain": [
       "<Figure size 432x288 with 1 Axes>"
      ]
     },
     "metadata": {},
     "output_type": "display_data"
    }
   ],
   "source": [
    "#plotting the graphs with covariance models for space\n",
    "\n",
    "#Separable\n",
    "def covariance_func_sep(b, a, c, t, h):\n",
    "    return np.exp(-b * h)* np.exp(-a * t) # t%T modulo operator returns \n",
    "\n",
    "#Non-separable\n",
    "#Note σ^2=1\n",
    "\n",
    "def covariance_func_non_sep1(b, a, c, t, h):\n",
    "    return (a*t+1)/(((((a*t)+1)**2) + (b**2 * h**2))**(2))\n",
    "\n",
    "def covariance_func_non_sep2(b, a, c, t, h):\n",
    "    return np.exp(-b**2 * h**2)* np.exp(-a * t) * np.exp(-c * t * h**2)\n",
    "\n",
    "h = np.linspace(0,25,100)\n",
    "\n",
    "\n",
    "t = 0\n",
    "c =0 \n",
    "\n",
    "\n",
    "b_sep = 0.01177238\n",
    "a_sep = 0.27165709\n",
    "plt.plot(h,covariance_func_sep(b_sep, a_sep, c, t, h), color = 'blue')\n",
    "\n",
    "b_nsep1 = 0.0165161\n",
    "a_nsep1 = 0.1028079\n",
    "plt.plot(h,covariance_func_non_sep1(b_nsep1, a_nsep1, c, t, h), color = 'orange')\n",
    "\n",
    "\n",
    "b_nsep2 = 0.02219538\n",
    "a_nsep2 = 0.03891541     \n",
    "c = 0.00316325\n",
    "plt.plot(h,covariance_func_non_sep2(b_nsep2, a_nsep2, c, t, h), color = 'red')\n",
    "\n",
    "plt.scatter(tx0, ty0,  color='black')\n",
    "plt.ylim(0, 1)\n",
    "\n",
    "#np.savetxt(\"Temperature_space.csv\", np.transpose([h,covariance_func_sep(b_sep, a_sep, c, t, h),\n",
    "#                                               covariance_func_non_sep1(b_nsep1, a_nsep1, c, t, h),\n",
    "#                                              covariance_func_non_sep2(b_nsep2, a_nsep2, c, t, h)]), delimiter=\",\")\n",
    "\n",
    "#np.savetxt(\"Temperature_space_data_points.csv\", np.transpose([tx0, ty0]), delimiter=\",\")"
   ]
  },
  {
   "cell_type": "code",
   "execution_count": 21,
   "metadata": {},
   "outputs": [
    {
     "data": {
      "text/plain": [
       "<matplotlib.collections.PathCollection at 0x7fe5e126aef0>"
      ]
     },
     "execution_count": 21,
     "metadata": {},
     "output_type": "execute_result"
    },
    {
     "data": {
      "image/png": "[encoded data removed]",
      "text/plain": [
       "<Figure size 432x288 with 1 Axes>"
      ]
     },
     "metadata": {},
     "output_type": "display_data"
    }
   ],
   "source": [
    "#plotting the graphs with covariance models in time\n",
    "\n",
    "h_avg = 8.38666666667\n",
    "\n",
    "t = np.linspace(0,6,100)\n",
    "\n",
    "b_sep = 0.01177238\n",
    "a_sep = 0.27165709\n",
    "plt.plot(t,covariance_func_sep(b_sep, a_sep, c, t, h_avg), color = 'blue')\n",
    "\n",
    "b_nsep1 = 0.0165161\n",
    "a_nsep1 = 0.1028079\n",
    "plt.plot(t,covariance_func_non_sep1(b_nsep1, a_nsep1, c, t, h_avg), color = 'orange')\n",
    "\n",
    "b_nsep2 = 0.02219538\n",
    "a_nsep2 = 0.03891541     \n",
    "c = 0.00316325\n",
    "plt.plot(t,covariance_func_non_sep2(b_nsep2, a_nsep2, c, t, h_avg), color = 'red')\n",
    "\n",
    "plt.scatter(temperature_timex, temperature_timey,  color='black')\n",
    "\n",
    "#np.savetxt(\"Temperature_time.csv\", np.transpose([t,covariance_func_sep(b_sep, a_sep, c, t, h_avg),\n",
    "#                                               covariance_func_non_sep1(b_nsep1, a_nsep1, c, t, h_avg),\n",
    "#                                              covariance_func_non_sep2(b_nsep2, a_nsep2, c, t, h_avg)]), delimiter=\",\")\n",
    "\n",
    "#np.savetxt(\"Temperature_time_data_points.csv\", np.transpose([temperature_timex, temperature_timey]), delimiter=\",\")"
   ]
  },
  {
   "cell_type": "code",
   "execution_count": 22,
   "metadata": {},
   "outputs": [
    {
     "name": "stdout",
     "output_type": "stream",
     "text": [
      "70.82288890308116\n",
      "73.70776392699986\n",
      "132.36309105148476\n"
     ]
    }
   ],
   "source": [
    "#Testing which covariance model fits the data points best\n",
    "\n",
    "sum_cov1 = 0\n",
    "sum_cov2 = 0\n",
    "sum_cov3 = 0\n",
    "\n",
    "\n",
    "#merge\n",
    "\n",
    "tx = [tx0, tx1, tx2, tx3, tx4, tx5, tx6]#, tx7, tx8, tx9]\n",
    "ty = [ty0, ty1, ty2, ty3, ty4, ty5, ty6]#, ty7, ty8, ty9]\n",
    "\n",
    "#print(covariance_func_non_sep1(b_sep, a_sep, c, 0, 0))\n",
    "#for i in range(len(hx)):\n",
    "for i in range(7):\n",
    "    for j in range(len(tx0)):\n",
    "        #separable\n",
    "        b_sep = 0.01177238\n",
    "        a_sep = 0.27165709\n",
    "        sum_cov1 += np.abs(ty[i][j] - covariance_func_sep(b_sep, a_sep, c, i, tx[i][j]))\n",
    "\n",
    "        #non-separable I\n",
    "        b_sep = 0.0165161\n",
    "        a_sep = 0.102808\n",
    "        #print(covariance_func_non_sep2(b_sep, a_sep, c, i, hx[i][j]))\n",
    "        sum_cov2 += np.abs(ty[i][j] - covariance_func_non_sep1(b_sep, a_sep, c, i, tx[i][j]))\n",
    "        \n",
    "        #non-separable II\n",
    "        b_sep = 0.02219538\n",
    "        a_sep = 0.03891541     \n",
    "        c = 0.00316325\n",
    "        #print(covariance_func_non_sep1(b_sep, a_sep, c, i, hx[i][j]))\n",
    "        sum_cov3 += np.abs(ty[i][j] - covariance_func_non_sep2(b_sep, a_sep, c, i, tx[i][j]))\n",
    "\n",
    "print(sum_cov1)\n",
    "print(sum_cov2)\n",
    "print(sum_cov3) "
   ]
  },
  {
   "cell_type": "code",
   "execution_count": 23,
   "metadata": {},
   "outputs": [
    {
     "data": {
      "text/plain": [
       "(0, 1)"
      ]
     },
     "execution_count": 23,
     "metadata": {},
     "output_type": "execute_result"
    },
    {
     "data": {
      "image/png": "[encoded data removed]",
      "text/plain": [
       "<Figure size 432x288 with 1 Axes>"
      ]
     },
     "metadata": {},
     "output_type": "display_data"
    }
   ],
   "source": [
    "# calculating the covariance for zero lag for Humidity\n",
    "i = 0\n",
    "\n",
    "hy0 = [None] * 81\n",
    "hx0 = [None] * 81\n",
    "k=0\n",
    "for first_column in Humidity_data:\n",
    "    df1 = Humidity_data[first_column]\n",
    "    std_test1=np.std(df1)\n",
    "    j = 0 \n",
    "    for second_column in Humidity_data:\n",
    "            df2 = Humidity_data[second_column]\n",
    "            std_test2=np.std(df2)\n",
    "            hy0[k] = np.corrcoef(df1, df2)[0, 1]\n",
    "            hx0[k] = nodes_distances.iloc[i,j]\n",
    "            j = j + 1\n",
    "            k = k + 1\n",
    "    i = i + 1\n",
    "plt.scatter(hx0, hy0,  color='black')\n",
    "plt.ylim(0, 1)"
   ]
  },
  {
   "cell_type": "code",
   "execution_count": 24,
   "metadata": {},
   "outputs": [
    {
     "data": {
      "text/plain": [
       "(0, 1)"
      ]
     },
     "execution_count": 24,
     "metadata": {},
     "output_type": "execute_result"
    },
    {
     "data": {
      "image/png": "[encoded data removed]",
      "text/plain": [
       "<Figure size 432x288 with 1 Axes>"
      ]
     },
     "metadata": {},
     "output_type": "display_data"
    }
   ],
   "source": [
    "# calculating the covariance for lag 1 hour for Humidity\n",
    "i = 0\n",
    "\n",
    "hy1 = [None] * 81\n",
    "hx1 = [None] * 81\n",
    "k=0\n",
    "for first_column in Humidity_data:\n",
    "    df1 = Humidity_data[first_column][:-1]\n",
    "    std_test1=np.std(df1)\n",
    "    j = 0 \n",
    "    for second_column in Humidity_data:\n",
    "        df2 = Humidity_data[second_column][1:]\n",
    "        std_test2=np.std(df2)\n",
    "        hy1[k] = np.corrcoef(df1, df2)[0, 1]\n",
    "        hx1[k] = nodes_distances.iloc[i,j]\n",
    "        j = j + 1\n",
    "        k = k + 1\n",
    "    i = i + 1\n",
    "plt.scatter(hx1, hy1,  color='black')\n",
    "plt.ylim(0, 1)"
   ]
  },
  {
   "cell_type": "code",
   "execution_count": 25,
   "metadata": {},
   "outputs": [
    {
     "data": {
      "text/plain": [
       "(0, 1)"
      ]
     },
     "execution_count": 25,
     "metadata": {},
     "output_type": "execute_result"
    },
    {
     "data": {
      "image/png": "[encoded data removed]",
      "text/plain": [
       "<Figure size 432x288 with 1 Axes>"
      ]
     },
     "metadata": {},
     "output_type": "display_data"
    }
   ],
   "source": [
    "# calculating the covariance for lag 2 hour for Humidity\n",
    "i = 0\n",
    "\n",
    "hy2 = [None] * 81\n",
    "hx2 = [None] * 81\n",
    "k=0\n",
    "for first_column in Humidity_data:\n",
    "    df1 = Humidity_data[first_column][:-2]\n",
    "    std_test1=np.std(df1)\n",
    "    j = 0 \n",
    "    for second_column in Humidity_data:\n",
    "        df2 = Humidity_data[second_column][2:]\n",
    "        std_test2=np.std(df2)\n",
    "        hy2[k] = (np.cov(df1,df2)/(std_test1*std_test2)).item((0, 1))\n",
    "        hx2[k] = nodes_distances.iloc[i,j]\n",
    "        j = j + 1\n",
    "        k = k + 1\n",
    "    i = i + 1\n",
    "plt.scatter(hx2, hy2,  color='black')\n",
    "plt.ylim(0, 1)"
   ]
  },
  {
   "cell_type": "code",
   "execution_count": 26,
   "metadata": {},
   "outputs": [
    {
     "data": {
      "text/plain": [
       "(0, 1)"
      ]
     },
     "execution_count": 26,
     "metadata": {},
     "output_type": "execute_result"
    },
    {
     "data": {
      "image/png": "[encoded data removed]",
      "text/plain": [
       "<Figure size 432x288 with 1 Axes>"
      ]
     },
     "metadata": {},
     "output_type": "display_data"
    }
   ],
   "source": [
    "# calculating the covariance for lag 3 hour for Humidity\n",
    "i = 0\n",
    "\n",
    "hy3 = [None] * 81\n",
    "hx3 = [None] * 81\n",
    "k=0\n",
    "for first_column in Humidity_data:\n",
    "    df1 = Humidity_data[first_column][:-3]\n",
    "    std_test1=np.std(df1)\n",
    "    j = 0 \n",
    "    for second_column in Humidity_data:\n",
    "        df2 = Humidity_data[second_column][3:]\n",
    "        std_test2=np.std(df2)\n",
    "        hy3[k] = np.corrcoef(df1, df2)[0, 1]\n",
    "        hx3[k] = nodes_distances.iloc[i,j]\n",
    "        j = j + 1\n",
    "        k = k + 1\n",
    "    i = i + 1\n",
    "plt.scatter(hx3, hy3,  color='black')\n",
    "plt.ylim(0, 1)"
   ]
  },
  {
   "cell_type": "code",
   "execution_count": 27,
   "metadata": {},
   "outputs": [
    {
     "data": {
      "text/plain": [
       "(0, 1)"
      ]
     },
     "execution_count": 27,
     "metadata": {},
     "output_type": "execute_result"
    },
    {
     "data": {
      "image/png": "[encoded data removed]",
      "text/plain": [
       "<Figure size 432x288 with 1 Axes>"
      ]
     },
     "metadata": {},
     "output_type": "display_data"
    }
   ],
   "source": [
    "# calculating the covariance for lag 4 hour for Humidity\n",
    "i = 0\n",
    "\n",
    "hy4 = [None] * 81\n",
    "hx4 = [None] * 81\n",
    "k=0\n",
    "for first_column in Humidity_data:\n",
    "    df1 = Humidity_data[first_column][:-4]\n",
    "    std_test1=np.std(df1)\n",
    "    j = 0 \n",
    "    for second_column in Humidity_data:\n",
    "        df2 = Humidity_data[second_column][4:]\n",
    "        std_test2=np.std(df2)\n",
    "        hy4[k] = np.corrcoef(df1, df2)[0, 1]\n",
    "        hx4[k] = nodes_distances.iloc[i,j]\n",
    "        j = j + 1\n",
    "        k = k + 1\n",
    "    i = i + 1\n",
    "plt.scatter(hx4, hy4,  color='black')\n",
    "plt.ylim(0, 1)"
   ]
  },
  {
   "cell_type": "code",
   "execution_count": 28,
   "metadata": {},
   "outputs": [
    {
     "data": {
      "text/plain": [
       "(0, 1)"
      ]
     },
     "execution_count": 28,
     "metadata": {},
     "output_type": "execute_result"
    },
    {
     "data": {
      "image/png": "[encoded data removed]",
      "text/plain": [
       "<Figure size 432x288 with 1 Axes>"
      ]
     },
     "metadata": {},
     "output_type": "display_data"
    }
   ],
   "source": [
    "# calculating the covariance for lag 5 hour for Humidity\n",
    "i = 0\n",
    "\n",
    "hy5 = [None] * 81\n",
    "hx5 = [None] * 81\n",
    "k=0\n",
    "for first_column in Humidity_data:\n",
    "    df1 = Humidity_data[first_column][:-5]\n",
    "    std_test1=np.std(df1)\n",
    "    j = 0 \n",
    "    for second_column in Humidity_data:\n",
    "        df2 = Humidity_data[second_column][5:]\n",
    "        std_test2=np.std(df2)\n",
    "        hy5[k] = np.corrcoef(df1, df2)[0, 1]\n",
    "        hx5[k] = nodes_distances.iloc[i,j]\n",
    "        j = j + 1\n",
    "        k = k + 1\n",
    "    i = i + 1\n",
    "plt.scatter(hx5, hy5,  color='black')\n",
    "plt.ylim(0, 1)"
   ]
  },
  {
   "cell_type": "code",
   "execution_count": 29,
   "metadata": {
    "collapsed": true
   },
   "outputs": [],
   "source": [
    "#Time lags from 6 to 9\n",
    "\n",
    "lists_hy = []\n",
    "lists_hx = []\n",
    "    \n",
    "for z in range(4):\n",
    "    humy = [None] * 81\n",
    "    humx = [None] * 81\n",
    "    k=0\n",
    "    i=0\n",
    "    for first_column in Humidity_data:\n",
    "        df1 = Humidity_data[first_column][:-(6+z)]\n",
    "        std_test1=np.std(df1)\n",
    "        j = 0 \n",
    "        for second_column in Humidity_data:\n",
    "            df2 = Humidity_data[second_column][(6+z):]\n",
    "            std_test2=np.std(df2)\n",
    "            humy[k] = np.corrcoef(df1, df2)[0, 1]\n",
    "            humx[k] = nodes_distances.iloc[i,j]\n",
    "            j = j + 1\n",
    "            k = k + 1\n",
    "        i = i + 1\n",
    "    lists_hy.append(humy)\n",
    "    lists_hx.append(humx)\n",
    "\n",
    "hy6 = lists_hy[0]\n",
    "hx6 = lists_hx[0]\n",
    "hy7 = lists_hy[1]\n",
    "hx7 = lists_hx[1]\n",
    "hy8 = lists_hy[2]\n",
    "hx8 = lists_hx[2]\n",
    "hy9 = lists_hy[3]\n",
    "hx9 = lists_hx[3]"
   ]
  },
  {
   "cell_type": "code",
   "execution_count": 30,
   "metadata": {},
   "outputs": [
    {
     "data": {
      "text/plain": [
       "<matplotlib.collections.PathCollection at 0x7fe5de191e48>"
      ]
     },
     "execution_count": 30,
     "metadata": {},
     "output_type": "execute_result"
    },
    {
     "data": {
      "image/png": "[encoded data removed]",
      "text/plain": [
       "<Figure size 432x288 with 1 Axes>"
      ]
     },
     "metadata": {},
     "output_type": "display_data"
    }
   ],
   "source": [
    "#Calculating averages for time component:\n",
    "humidity_timey = [sum(hy0)/len(hy0),sum(hy1)/len(hy1), sum(hy2)/len(hy2),sum(hy3)/len(hy3),sum(hy4)/len(hy4),sum(hy5)/len(hy5),\n",
    "                 sum(hy6)/len(hy6),sum(hy7)/len(hy7),sum(hy8)/len(hy8),sum(hy9)/len(hy9)]\n",
    "\n",
    "#print(humidity_timey)\n",
    "\n",
    "humidity_timex = [0,1,2,3,4,5,6,7,8,9]\n",
    "\n",
    "plt.scatter(humidity_timex, humidity_timey,  color='black')"
   ]
  },
  {
   "cell_type": "code",
   "execution_count": 31,
   "metadata": {},
   "outputs": [
    {
     "name": "stdout",
     "output_type": "stream",
     "text": [
      "[0.00965808]\n",
      "[0.16429295]\n"
     ]
    }
   ],
   "source": [
    "#Fitting the curve for seperable covariance function\n",
    "\n",
    "def covariance_func_space(x, b):\n",
    "    return np.exp(-b * x)\n",
    "\n",
    "def covariance_func_time(x, a):\n",
    "    return np.exp(-a * x)\n",
    "\n",
    "#Fit for the parameters a, b of the function func:\n",
    "\n",
    "popt, pcov = curve_fit(covariance_func_space, hx0, hy0, bounds=(0, 1))\n",
    "print(popt)\n",
    "\n",
    "popt, pcov = curve_fit(covariance_func_time, humidity_timex, humidity_timey, bounds=(0, 1))\n",
    "print(popt)"
   ]
  },
  {
   "cell_type": "code",
   "execution_count": 32,
   "metadata": {},
   "outputs": [
    {
     "name": "stdout",
     "output_type": "stream",
     "text": [
      "[0.02149839]\n"
     ]
    }
   ],
   "source": [
    "#Fitting the curve for non-seperable covariance function I \n",
    "\n",
    "#The first step is determine spatial parameter b\n",
    "def covariance_func_space(x, b):\n",
    "    return np.exp(-b**2 * x**2)\n",
    "\n",
    "popt, pcov = curve_fit(covariance_func_space, hx0, hy0, bounds=(0, 1))\n",
    "print(popt)\n"
   ]
  },
  {
   "cell_type": "code",
   "execution_count": 33,
   "metadata": {},
   "outputs": [
    {
     "name": "stdout",
     "output_type": "stream",
     "text": [
      "[0.00315899 0.00219787]\n"
     ]
    }
   ],
   "source": [
    "#The second step is determine time parameter a and parameter c\n",
    "\n",
    "def covariance_func_time(x, a, c):\n",
    "    return np.exp(-a * x - 0.02134169**2 * 8.38666666667**2-c*x*8.38666666667**2)\n",
    "\n",
    "#Fit for the parameters a, c of the function func:\n",
    "\n",
    "popt, pcov = curve_fit(covariance_func_time, humidity_timex, humidity_timey, bounds=(0, [0.5, 0.5]))\n",
    "print(popt)"
   ]
  },
  {
   "cell_type": "code",
   "execution_count": 34,
   "metadata": {},
   "outputs": [
    {
     "name": "stdout",
     "output_type": "stream",
     "text": [
      "[0.01581869]\n"
     ]
    }
   ],
   "source": [
    "#Fitting the curve for non-seperable covariance function II \n",
    "\n",
    "#The first step is determine spatial parameter b\n",
    "def covariance_func_space(x, b):\n",
    "    return 1/(1+b**2 * x**2)**2\n",
    "\n",
    "popt, pcov = curve_fit(covariance_func_space, hx0, hy0, bounds=(0, 0.5))\n",
    "print(popt)"
   ]
  },
  {
   "cell_type": "code",
   "execution_count": 35,
   "metadata": {},
   "outputs": [
    {
     "name": "stdout",
     "output_type": "stream",
     "text": [
      "[0.06137028]\n"
     ]
    }
   ],
   "source": [
    "#The second step is determine time parameter a\n",
    "def covariance_func_time(x, a):\n",
    "    return (a*x+1)/((1+a * x)**2 + (8.38666666667**2 * 0.01569255**2))**2\n",
    "\n",
    "#Fit for the parameters a, b of the function func:\n",
    "\n",
    "popt, pcov = curve_fit(covariance_func_time, humidity_timex, humidity_timey, bounds=(0, 0.5))\n",
    "print(popt)"
   ]
  },
  {
   "cell_type": "code",
   "execution_count": 36,
   "metadata": {},
   "outputs": [
    {
     "data": {
      "text/plain": [
       "(0, 1)"
      ]
     },
     "execution_count": 36,
     "metadata": {},
     "output_type": "execute_result"
    },
    {
     "data": {
      "image/png": "[encoded data removed]",
      "text/plain": [
       "<Figure size 432x288 with 1 Axes>"
      ]
     },
     "metadata": {},
     "output_type": "display_data"
    }
   ],
   "source": [
    "#plotting the graphs with covariance models\n",
    "\n",
    "h = np.linspace(0,25,100)\n",
    "\n",
    "t = 0\n",
    "\n",
    "#covariance_func_sep(b_sep, a_sep, c, t, h)\n",
    "\n",
    "b_sep = 0.00949773\n",
    "a_sep = 0.16580629\n",
    "\n",
    "plt.plot(h,covariance_func_sep(b_sep, a_sep, c, t, h), color='blue')\n",
    "b_nsep2 = 0.02134169\n",
    "a_nsep2 = 0.0224028\n",
    "c = 0.00194497\n",
    "\n",
    "plt.plot(h,covariance_func_non_sep2(b_nsep2, a_nsep2, c, t, h), color='red')\n",
    "\n",
    "b_nsep1 = 0.01569255\n",
    "a_nsep1 = 0.06205185\n",
    "plt.plot(h,covariance_func_non_sep1(b_nsep1, a_nsep1, c, t, h), color='orange')\n",
    "\n",
    "plt.scatter(hx0, hy0,  color='black')\n",
    "plt.ylim(0, 1)\n",
    "\n",
    "#Save to .csv file\n",
    "#np.savetxt(\"Humidity_space.csv\", np.transpose([h,covariance_func_sep(b_sep, a_sep, c, t, h),\n",
    "#                                               covariance_func_non_sep1(b_nsep1, a_nsep1, c, t, h),\n",
    "#                                              covariance_func_non_sep2(b_nsep2, a_nsep2, c, t, h)]), delimiter=\",\")\n",
    "\n",
    "#np.savetxt(\"Humidity_space_data_points.csv\", np.transpose([hx0, hy0,]), delimiter=\",\")"
   ]
  },
  {
   "cell_type": "code",
   "execution_count": 37,
   "metadata": {},
   "outputs": [
    {
     "data": {
      "text/plain": [
       "<matplotlib.collections.PathCollection at 0x7fe5e2f019b0>"
      ]
     },
     "execution_count": 37,
     "metadata": {},
     "output_type": "execute_result"
    },
    {
     "data": {
      "image/png": "[encoded data removed]",
      "text/plain": [
       "<Figure size 432x288 with 1 Axes>"
      ]
     },
     "metadata": {},
     "output_type": "display_data"
    }
   ],
   "source": [
    "#plotting the graphs with covariance models in time\n",
    "\n",
    "h_avg = 8.33\n",
    "\n",
    "t = np.linspace(0,9,100)\n",
    "\n",
    "\n",
    "b_sep = 0.00949773\n",
    "a_sep = 0.16580629\n",
    "\n",
    "plt.plot(t,covariance_func_sep(b_sep, a_sep, c, t, h_avg), color='blue')\n",
    "\n",
    "b_nsep1 = 0.01569255\n",
    "a_nsep1 = 0.06205185\n",
    "plt.plot(t,covariance_func_non_sep1(b_nsep1, a_nsep1, c, t, h_avg), color='orange')\n",
    "\n",
    "\n",
    "b_nsep2 = 0.02134169\n",
    "a_nsep2 = 0.0224028\n",
    "c = 0.00194497\n",
    "\n",
    "plt.plot(t,covariance_func_non_sep2(b_nsep2, a_nsep2, c, t, h_avg), color='red')\n",
    "\n",
    "\n",
    "plt.scatter(humidity_timex, humidity_timey,  color='black')\n",
    "\n",
    "#Save to .csv file\n",
    "#np.savetxt(\"Humidity_time.csv\", np.transpose([t,covariance_func_sep(b_sep, a_sep, c, t, h_avg),\n",
    "#                                               covariance_func_non_sep1(b_nsep1, a_nsep1, c, t, h_avg),\n",
    "#                                              covariance_func_non_sep2(b_nsep2, a_nsep2, c, t, h_avg)]), delimiter=\",\")\n",
    "\n",
    "#np.savetxt(\"Humidity_time_data_points.csv\", np.transpose([humidity_timex, humidity_timey]), delimiter=\",\")"
   ]
  },
  {
   "cell_type": "code",
   "execution_count": 38,
   "metadata": {
    "scrolled": true
   },
   "outputs": [
    {
     "name": "stdout",
     "output_type": "stream",
     "text": [
      "275.56725209700386\n",
      "76.95682269654733\n",
      "194.04063900591615\n"
     ]
    }
   ],
   "source": [
    "#Testing which covariance model fits the data points best\n",
    "\n",
    "sum_cov1 = 0\n",
    "sum_cov2 = 0\n",
    "sum_cov3 = 0\n",
    "\n",
    "\n",
    "#merge\n",
    "\n",
    "hx = [hx0, hx1, hx2, hx3, hx4, hx5, hx6, hx7, hx8, hx9]\n",
    "hy = [hy0, hy1, hy2, hy3, hy4, hy5, hy6, hy7, hy8, hy9]\n",
    "\n",
    "#print(covariance_func_non_sep1(b_sep, a_sep, c, 0, 0))\n",
    "#for i in range(len(hx)):\n",
    "for i in range(10):\n",
    "    for j in range(len(hx0)):\n",
    "        #separable\n",
    "        b_sep = 0.00949773\n",
    "        a_sep = 0.013360025\n",
    "        sum_cov1 += np.abs(hy[i][j] - covariance_func_sep(b_sep, a_sep, c, i, hx[i][j]))\n",
    "        #print(np.abs(hy[i][j] - covariance_func_sep(b_sep, a_sep, c, i, hx[i][j])))\n",
    "\n",
    "        #non-separable I\n",
    "        b_nsep1 = 0.01569255\n",
    "        a_nsep1 = 0.06205185\n",
    "        #print(np.abs(hy[i][j] - covariance_func_non_sep2(b_nsep2, a_nsep2, c, i, hx[i][j])))\n",
    "        sum_cov2 += np.abs(hy[i][j] - covariance_func_non_sep1(b_nsep1, a_nsep1, c, i, hx[i][j]))\n",
    "        \n",
    "        #non-separable II\n",
    "        b_nsep2 = 0.02134169\n",
    "        a_nsep2 = 0.0224028\n",
    "        c = 0.00194497\n",
    "        #print(covariance_func_non_sep1(b_sep, a_sep, c, i, hx[i][j]))\n",
    "        #print(np.abs(hy[i][j] - covariance_func_non_sep1(b_nsep1, a_nsep1, c, i, hx[i][j])))\n",
    "        sum_cov3 += np.abs(hy[i][j] - covariance_func_non_sep2(b_nsep2, a_nsep2, c, i, hx[i][j]))\n",
    "\n",
    "\n",
    "print(sum_cov1)\n",
    "print(sum_cov2)\n",
    "print(sum_cov3) "
   ]
  }
 ],
 "metadata": {
  "kernelspec": {
   "display_name": "Python 3",
   "language": "python",
   "name": "python3"
  },
  "language_info": {
   "codemirror_mode": {
    "name": "ipython",
    "version": 3
   },
   "file_extension": ".py",
   "mimetype": "text/x-python",
   "name": "python",
   "nbconvert_exporter": "python",
   "pygments_lexer": "ipython3",
   "version": "3.6.5"
  }
 },
 "nbformat": 4,
 "nbformat_minor": 2
}
